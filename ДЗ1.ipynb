{
 "cells": [
  {
   "cell_type": "markdown",
   "metadata": {},
   "source": [
    "Часть 1."
   ]
  },
  {
   "cell_type": "markdown",
   "metadata": {},
   "source": [
    "Задание 1. \n",
    "Пояснение: \n",
    "Функцией сплита делим строку с именем (получили список из двух элементов, по умолчанию разделитель пробел, поэтому не уточняем это). Можем вызывать элементы из этого списка (имя и фамилию), как разлепленные строчки, и ставить их в любом порядке.\n",
    "Оценки - это список, запакованный внутри общего списка, поэтому чтобы вызвать элемент, который показвает конкретную оценку, нам нужно два аргумента. Первым мы обращаемся к самому списку с оценками, вторым - к порядковому номеру конкретной оценки.\n",
    "Чтобы посчитать средний балл делим сумму элементов списка на их количество (= длина списка). В последнем пункте про стипендию строчка с >= в качестве ответа уже дает логический тип (True/False), поэтому даже не надо прибегать к if/else."
   ]
  },
  {
   "cell_type": "code",
   "execution_count": null,
   "metadata": {},
   "outputs": [],
   "source": [
    "student = ['Иван Питонов', 2001, [8, 7, 7, 9, 6], True]\n",
    "\n",
    "print('Студент:', student[0].split()[1] + ',', student[0].split()[0])\n",
    "print('Возраст:', 2020 - student[1])\n",
    "print('Оценки: ' + str(student[2][0]) + \", \" + str(student[2][1]) + \", \" + str(student[2][2]) + \", \" + str(student[2][3]) + \", \" + str(student[2][4]))\n",
    "print('Средний балл:', sum(student[2])/len(student[2]))\n",
    "print(sum(student[2])/len(student[2]) >= 8)"
   ]
  },
  {
   "cell_type": "markdown",
   "metadata": {},
   "source": [
    "Задание 2.\n",
    "Пояснение:\n",
    "Необходимо последовательно с помощью вызова по индексам(для списков)/ключам(для словарей) углубляться в структуру dict_of_lists, чтобы дойти до нужного элемента. По ключу 'Список2' попадаем на список словарей, затем по индексу [0] на словарь для Windows, потом по ключу 'Windows' добираемся до списка из двух элементов, нам нужен второй из них, поэтому вызываем его по индексу [1]."
   ]
  },
  {
   "cell_type": "code",
   "execution_count": null,
   "metadata": {},
   "outputs": [],
   "source": [
    "dict_of_lists = {'Список1': [{'Python': 'язык программирования'}, {'R':'язык программирования', 'LaTEX' : 'язык верстки' }],\n",
    "                 'Список2' : [{'Windows' : ['операционная система', 'разработчик'], 'UNIX' : 'операционная система'},\n",
    "                              {'IBM': ['компания-производитель', 'разработчик'], 'IPv6' : 'интернет-протокол' }]}\n",
    "print(dict_of_lists['Список2'][0]['Windows'][1])"
   ]
  },
  {
   "cell_type": "markdown",
   "metadata": {},
   "source": [
    "Задание 3.\n",
    "Пояснение: \n",
    "С помощью усовного оператора сразу разведем Новокосино и остальные станции. Для остальных станций нужно сначала определить индекс конкретного значения в списке, затем прибавить единицу, чтобы перейти к следующему элементу (= следующей станции), и вызвать значение элемента списка по полученному индексу. Получим строку, поэтому можем с помощью + соединить с сопутствующими фразами (Следующая станция:)."
   ]
  },
  {
   "cell_type": "code",
   "execution_count": null,
   "metadata": {},
   "outputs": [],
   "source": [
    "line = [\"Третьяковская\", \"Марксистская\", \"Площадь Ильича\", \"Авиамоторная\", \"Шоссе Энтузиастов\", \"Перово\", \"Новогиреево\", \"Новокосино\"]\n",
    "station = input('Введите текущую станцию метро')\n",
    "if station == \"Новокосино\":\n",
    "    print('Конечная, покиньте вагон')\n",
    "else:\n",
    "    print('Следующая станция: ' + line[line.index(station) + 1] + '.')"
   ]
  },
  {
   "cell_type": "markdown",
   "metadata": {},
   "source": [
    "Задание .\n",
    "Пояснение:\n",
    "Первый элемент имеет нулевой индекс, первый с конца имеет индекс -1. При вызове среза _:_:_ первое значение - начало, второе значение - конец (не включается в вывод), третье - шаг, с которым берем элементы (в предпоследнем списке берем шаг -2 и тогда выбираем каждый второй элемент, при этом двигаясь от конца к началу). Если не указано значение, тогда по умолчанию 1) от начала, 2) до конца, 3) шаг = 1."
   ]
  },
  {
   "cell_type": "code",
   "execution_count": null,
   "metadata": {},
   "outputs": [],
   "source": [
    "dwarves = [\"Балин\", \"Двалин\", \"Бифур\", \"Бофур\", \"Бомбур\", \"Оин\", \"Глоин\", \"Дори\", \"Нори\", \"Ори\", \"Фили\", \"Кили\", \"Торин\"]\n",
    "print(dwarves[1:4])\n",
    "print(dwarves[::2])\n",
    "print(dwarves[5:12:2])\n",
    "print(dwarves[:5:-2])\n",
    "print([dwarves[-1]])"
   ]
  },
  {
   "cell_type": "markdown",
   "metadata": {},
   "source": [
    "Часть 2."
   ]
  },
  {
   "cell_type": "markdown",
   "metadata": {},
   "source": [
    "Задание 4.\n",
    "Пояснение:\n",
    "Сначала с разобьем исходное число на цифры. Смотрим остатом при делении на 10 и затем делим на 10 нацело (получили цифру с конца и сразу ее стерли у числа). Потом из полученного списка (там цифры уже в нужном порядке, так как у исходного числа мы стирали их с конца) берем цифры и умножаем на 10 в такой степени, чтобы цифры были на нужном месте в зависимости от длины числа. Суммируем и получаем перевернутое изначальное число."
   ]
  },
  {
   "cell_type": "code",
   "execution_count": null,
   "metadata": {},
   "outputs": [],
   "source": [
    "a = int(input('Введите произвольное целое число'))\n",
    "myl = []\n",
    "k = 10\n",
    "while a > 0:\n",
    "    myl.append(a % k)\n",
    "    a = a // k\n",
    "rev = 0\n",
    "for i in range(len(myl)) :\n",
    "    rev = rev + myl[i] * (10 ** (len(myl) - 1 - i))\n",
    "print(rev)\n"
   ]
  },
  {
   "cell_type": "markdown",
   "metadata": {},
   "source": [
    "Задание 5.\n",
    "Пояснение:\n",
    "Надо N раз вывести строчки, в каждой от 1 до номера данной строчки. Для этого обратимся к вложенным циклам. Первый цикл прогоняет номера строк от 1 до N (включительно), а второй в каждой строке позволяет перебрать и вывести все значения от 1 до именно номера строчки (индекса i, по которому пробегает первый цикл)."
   ]
  },
  {
   "cell_type": "code",
   "execution_count": null,
   "metadata": {},
   "outputs": [],
   "source": [
    "N = int(input('Введите целое число'))\n",
    "for i in range(1, N+1):\n",
    "    st = ''\n",
    "    for j in range(1, i+1):\n",
    "        st = st + ' ' + str(j)\n",
    "    print(st)"
   ]
  },
  {
   "cell_type": "markdown",
   "metadata": {},
   "source": [
    "Задание 6.\n",
    "Пояснение:\n",
    "Ввод запускаем столько раз, сколько ходов обозначено через N, для этого запускаем цикл на N итераций. Чтобы преобразовать каждый ход в направление + количество шагов, сплитом разбиваем строку, получаем список, где под индексом 0 направление, под индексом 1 - количество шагов. Определяя направление с помощью условных операторов, прибавляем либо вычитаем число шагов из координат (x - по горизонтали, y - по вертикали). По сути минимальное количество шагов, это модуль разницы x и начальной точки (необходимые шаги по горизонтали) прибавить модуль разницы y и начальной точки (необходимые шаги по вертикали). Модуль нужен, чтобы учитывать, что движение может быть как в плюс, так и в минус, но это не повлияет на минимальное кол-во шагов."
   ]
  },
  {
   "cell_type": "code",
   "execution_count": null,
   "metadata": {},
   "outputs": [],
   "source": [
    "N = int(input('Введите N'))\n",
    "x = 0\n",
    "y = 0\n",
    "for i in range(1, N + 1):\n",
    "    a = input('Ход ' + str(i)).split()\n",
    "    if a[0] == 'Вверх':\n",
    "        y += int(a[1])\n",
    "    elif a[0] == 'Вниз':\n",
    "        y -= int(a[1])\n",
    "    elif a[0] == 'Вправо':\n",
    "        x += int(a[1])\n",
    "    elif a[0] == 'Влево':\n",
    "        x -= int(a[1])\n",
    "    print(a)\n",
    "print('Пётр находится на расстоянии ' + str(abs(x - 0) + abs(y - 0)) + ' от (0,0)')"
   ]
  },
  {
   "cell_type": "markdown",
   "metadata": {},
   "source": [
    "Задание 7.\n",
    "Пояснение:\n",
    "Нельзя просто добавлять разные значения по одному и тому ключу, потому что они будут просто перезаписываться. Тогда нужно развести ветки 1) если уже есть такой ключ, то суммируем значение к тому, что уже хранится по данному ключу в словаре itog. Если такого ключа еще нет, то добавляем ключ и соответствующее значение в словарь. Прогоняем данную операцию через цикл столько раз, сколько словарей в списке shops."
   ]
  },
  {
   "cell_type": "code",
   "execution_count": null,
   "metadata": {},
   "outputs": [],
   "source": [
    "shops = [{'товар': 'яблоки', 'количество': 400}, {'товар': 'конфеты', 'количество': 300}, {'товар': 'яблоки', 'количество': 750}]\n",
    "itog = {}\n",
    "for i in range(len(shops)):\n",
    "    if shops[i]['товар'] in itog:\n",
    "        itog[shops[i]['товар']] = itog[shops[i]['товар']] + shops[i]['количество']\n",
    "    else:\n",
    "        itog[shops[i]['товар']] = shops[i]['количество']\n",
    "print(itog)\n"
   ]
  },
  {
   "cell_type": "markdown",
   "metadata": {},
   "source": [
    "Часть 3."
   ]
  },
  {
   "cell_type": "code",
   "execution_count": 5,
   "metadata": {},
   "outputs": [],
   "source": [
    "import numpy as np\n",
    "import pandas as pd\n",
    "babies = pd.read_csv('https://raw.githubusercontent.com/pileyan/Data/master/data/babies%20names/babies_all.txt', index_col=0)          "
   ]
  },
  {
   "cell_type": "markdown",
   "metadata": {},
   "source": [
    "Задание 1.\n",
    "1) В датасете есть данные за все года с 1880 по 2010 года включительно.\n",
    "2) Под индексом 121 находится имя Ann (Анна).\n",
    "3) Родилось 212 человек под именем Aaron. Родилась 131 девочка с именем John.\n",
    "4) Девочек родилось на 317186 больше, чем мальчков.\n",
    "5) В 2010 году родилось 14140 мальчиков."
   ]
  },
  {
   "cell_type": "code",
   "execution_count": null,
   "metadata": {},
   "outputs": [],
   "source": [
    "babies[\"year\"].unique() #подсчет количества уникальных годов рождения"
   ]
  },
  {
   "cell_type": "code",
   "execution_count": null,
   "metadata": {},
   "outputs": [],
   "source": [
    "print(babies.iloc[121]) #вызвали элемент с индексом 121"
   ]
  },
  {
   "cell_type": "code",
   "execution_count": null,
   "metadata": {},
   "outputs": [],
   "source": [
    "babies.loc[babies.name == 'Aaron'].shape #выведем все строки где имя Аарон, их 212"
   ]
  },
  {
   "cell_type": "code",
   "execution_count": null,
   "metadata": {},
   "outputs": [],
   "source": [
    "babies.loc[(babies.name == 'John') & (babies.sex == 'F')].shape #выведем все строки где имя Джон и одновременно женский пол, таких строк 131."
   ]
  },
  {
   "cell_type": "code",
   "execution_count": null,
   "metadata": {},
   "outputs": [],
   "source": [
    "M_col, M_row = babies.loc[babies.sex == 'M'].shape\n",
    "F_col, F_row = babies.loc[babies.sex == 'F'].shape\n",
    "M_col - F_col #получается отрицательное число, поэтому девочек родилось больше, чем мальчиков"
   ]
  },
  {
   "cell_type": "code",
   "execution_count": null,
   "metadata": {},
   "outputs": [],
   "source": [
    "babies.loc[(babies.sex == 'M') & (babies.year == 2010)].shape #отбираем строки, чтобы пол детей был мужской, при этом год рождения был равен 2010, считаем количество строк\n"
   ]
  },
  {
   "cell_type": "markdown",
   "metadata": {},
   "source": [
    "Задание 2.\n"
   ]
  },
  {
   "cell_type": "code",
   "execution_count": 2,
   "metadata": {},
   "outputs": [],
   "source": [
    "import pandas as pd\n",
    "hotels = pd.read_csv(\"hotel_booking_data.csv\")"
   ]
  },
  {
   "cell_type": "code",
   "execution_count": 3,
   "metadata": {},
   "outputs": [
    {
     "data": {
      "text/plain": [
       "119390"
      ]
     },
     "execution_count": 3,
     "metadata": {},
     "output_type": "execute_result"
    }
   ],
   "source": [
    "hotels.shape[0] #получили кортеж из кол-ва строк и столбцов, нам нужно кол-во строк, поэтому вывели первый элемент кортежа"
   ]
  },
  {
   "cell_type": "code",
   "execution_count": 4,
   "metadata": {},
   "outputs": [
    {
     "data": {
      "text/plain": [
       "hotel                                  0\n",
       "is_canceled                            0\n",
       "lead_time                              0\n",
       "arrival_date_year                      0\n",
       "arrival_date_month                     0\n",
       "arrival_date_week_number               0\n",
       "arrival_date_day_of_month              0\n",
       "stays_in_weekend_nights                0\n",
       "stays_in_week_nights                   0\n",
       "adults                                 0\n",
       "children                               4\n",
       "babies                                 0\n",
       "meal                                   0\n",
       "country                              488\n",
       "market_segment                         0\n",
       "distribution_channel                   0\n",
       "is_repeated_guest                      0\n",
       "previous_cancellations                 0\n",
       "previous_bookings_not_canceled         0\n",
       "reserved_room_type                     0\n",
       "assigned_room_type                     0\n",
       "booking_changes                        0\n",
       "deposit_type                           0\n",
       "agent                              16340\n",
       "company                           112593\n",
       "days_in_waiting_list                   0\n",
       "customer_type                          0\n",
       "adr                                    0\n",
       "required_car_parking_spaces            0\n",
       "total_of_special_requests              0\n",
       "reservation_status                     0\n",
       "reservation_status_date                0\n",
       "name                                   0\n",
       "email                                  0\n",
       "phone-number                           0\n",
       "credit_card                            0\n",
       "dtype: int64"
      ]
     },
     "execution_count": 4,
     "metadata": {},
     "output_type": "execute_result"
    }
   ],
   "source": [
    "hotels.isnull().sum() #подсчитали кол-во пропущенных в каждом столбце, больше всего пропущенных в столбце company"
   ]
  },
  {
   "cell_type": "code",
   "execution_count": 5,
   "metadata": {},
   "outputs": [],
   "source": [
    "hotels = hotels.drop(columns = 'company')"
   ]
  },
  {
   "cell_type": "code",
   "execution_count": 6,
   "metadata": {},
   "outputs": [
    {
     "data": {
      "text/plain": [
       "country\n",
       "PRT    48590\n",
       "GBR    12129\n",
       "FRA    10415\n",
       "ESP     8568\n",
       "DEU     7287\n",
       "Name: count, dtype: int64"
      ]
     },
     "execution_count": 6,
     "metadata": {},
     "output_type": "execute_result"
    }
   ],
   "source": [
    "hotels['country'].value_counts().head(5)"
   ]
  },
  {
   "cell_type": "code",
   "execution_count": 7,
   "metadata": {},
   "outputs": [
    {
     "name": "stdout",
     "output_type": "stream",
     "text": [
      "          adr           name\n",
      "48515  5400.0  Daniel Walter\n"
     ]
    }
   ],
   "source": [
    "print(hotels[['adr', 'name']][hotels.adr == hotels.adr.max()])"
   ]
  },
  {
   "cell_type": "code",
   "execution_count": 8,
   "metadata": {},
   "outputs": [
    {
     "name": "stdout",
     "output_type": "stream",
     "text": [
      "101.83\n"
     ]
    }
   ],
   "source": [
    "print(round(hotels.adr.mean(), 2))"
   ]
  },
  {
   "cell_type": "code",
   "execution_count": 9,
   "metadata": {},
   "outputs": [
    {
     "name": "stdout",
     "output_type": "stream",
     "text": [
      "3.43\n"
     ]
    }
   ],
   "source": [
    "hotels[\"Nights\"] = hotels[\"stays_in_weekend_nights\"] + hotels[\"stays_in_week_nights\"] #создаем столбец, где будет общее число ночей для бронирования, потом считаем по нему среднее\n",
    "print(round(hotels[\"Nights\"].mean(), 2))"
   ]
  },
  {
   "cell_type": "code",
   "execution_count": null,
   "metadata": {},
   "outputs": [
    {
     "name": "stdout",
     "output_type": "stream",
     "text": [
      "357.85\n"
     ]
    }
   ],
   "source": [
    "hotels[\"Summa\"] = hotels[\"Nights\"] * hotels[\"adr\"] #количество ночей умножаем на среднюю стоимость суток, получим сумму за одно бронирование\n",
    "print(round(hotels[\"Summa\"].mean(), 2))"
   ]
  },
  {
   "cell_type": "code",
   "execution_count": null,
   "metadata": {},
   "outputs": [],
   "source": [
    "print(hotels[['name', 'email']][hotels.total_of_special_requests == 5])"
   ]
  },
  {
   "cell_type": "code",
   "execution_count": null,
   "metadata": {},
   "outputs": [
    {
     "name": "stdout",
     "output_type": "stream",
     "text": [
      "3.19\n"
     ]
    }
   ],
   "source": [
    "print(round(hotels[hotels.is_repeated_guest == 1].shape[0] / hotels.shape[0] * 100, 2)) #количество повторных гостей делим на общее количество"
   ]
  }
 ],
 "metadata": {
  "kernelspec": {
   "display_name": "Python 3",
   "language": "python",
   "name": "python3"
  },
  "language_info": {
   "codemirror_mode": {
    "name": "ipython",
    "version": 3
   },
   "file_extension": ".py",
   "mimetype": "text/x-python",
   "name": "python",
   "nbconvert_exporter": "python",
   "pygments_lexer": "ipython3",
   "version": "3.10.10"
  }
 },
 "nbformat": 4,
 "nbformat_minor": 2
}
